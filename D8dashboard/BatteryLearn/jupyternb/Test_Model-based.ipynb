{
 "cells": [
  {
   "cell_type": "code",
   "execution_count": null,
   "metadata": {
    "code_folding": [
     0
    ]
   },
   "outputs": [],
   "source": [
    "# import libraries\n",
    "from __future__ import print_function\n",
    "\n",
    "import sys\n",
    "import pdb\n",
    "\n",
    "import numpy as np\n",
    "import pandas as pd\n",
    "import math\n",
    "\n",
    "from pandas import Series, DataFrame\n",
    "import matplotlib.pyplot as plt\n",
    "\n",
    "from pylab import rcParams\n",
    "#import seaborn as sb\n",
    "\n",
    "from numpy.random import randn\n",
    "import glob\n",
    "from math import sqrt\n",
    "\n",
    "#-------- widgets\n",
    "import ipywidgets as widgets\n",
    "from ipywidgets import interact, interactive, fixed, interact_manual\n",
    "\n",
    "#--------time data manipulation\n",
    "import time\n",
    "from time import strptime\n",
    "# -----------plotly for interactive plotting\n",
    "#import cufflinks as cf\n",
    "# import plotly\n",
    "\n",
    "# plotly.tools.set_credentials_file(username='tonylee2016', api_key='2MJDXLESXkHo9EtK9ZJR')\n",
    "#from plotly.offline import download_plotlyjs, init_notebook_mode, plot, iplot\n",
    "\n",
    "import plotly as py\n",
    "import plotly.graph_objs as go\n",
    "py.__version__\n",
    "py.offline.init_notebook_mode(connected=True)\n",
    "\n",
    "from scipy.integrate import solve_ivp,simps"
   ]
  },
  {
   "cell_type": "code",
   "execution_count": null,
   "metadata": {
    "code_folding": [
     0
    ]
   },
   "outputs": [],
   "source": [
    "# ode fcns\n",
    "def RK4(f,x0,v_t,v_u = np.array([])):\n",
    "    \n",
    "    t_size = len(v_t)\n",
    "    x_size = len(x0)\n",
    "    #pdb.set_trace()\n",
    "    u_size = len(v_u)\n",
    "        \n",
    "    v_x = np.zeros((t_size,x_size))\n",
    "    \n",
    "    #assign the intial value \n",
    "    v_x[0,:] = x = x0\n",
    "    t = v_t[0]\n",
    "    u = 0\n",
    "    \n",
    "    for i in range(1,t_size):\n",
    "        \n",
    "        \n",
    "        #x[i-1],t[i-1]\n",
    "        \n",
    "        if  u_size > 1: \n",
    "            try: \n",
    "                u = v_u[i,:]\n",
    "            except:\n",
    "                u = v_u[i]            \n",
    "            \n",
    "        dt = v_t[i] - v_t[i - 1]\n",
    "        \n",
    "        k1 = dt * f(t,x,u)\n",
    "        k2 = dt * f(t + 0.5*dt, x + 0.5*k1,u)\n",
    "        k3 = dt * f(t + 0.5*dt, x + 0.5*k2,u)\n",
    "        k4 = dt * f(t + dt, x + k3,u)\n",
    "        \n",
    "        #x[i],t[i]\n",
    "#        pdb.set_trace()\n",
    "        \n",
    "        t += dt\n",
    "        x += (k1 + k2 + k2 + k3 + k3 + k4) / 6\n",
    "        \n",
    "        v_x[i,:] = x\n",
    "    \n",
    "    return v_x,v_t\n",
    "   "
   ]
  },
  {
   "cell_type": "code",
   "execution_count": null,
   "metadata": {
    "code_folding": [
     0
    ],
    "scrolled": true
   },
   "outputs": [],
   "source": [
    "#testing for the ode solver\n",
    "def f1(t,x,u = None):\n",
    "    dx1 = -0.01*x[0]\n",
    "    dx2 = 1\n",
    "#    pdb.set_trace()\n",
    "    return np.array([dx1,dx2])\n",
    "#def RK4(f,x0,v_t,v_u):\n",
    "[xs,ts] = RK4(f1, [100,0], np.array([0,1,2,3,4,5,6,7,8,9,10,11,12,13,15,18,20,30,50])*10)\n",
    "plt.figure(1)\n",
    "plt.clf()\n",
    "#plt.plot(ts, .transpose(), 'k', label='theory')\n",
    "plt.plot(ts, xs[:,0], 'k--', label='Output')\n",
    "plt.legend(loc='best')"
   ]
  },
  {
   "cell_type": "code",
   "execution_count": null,
   "metadata": {
    "code_folding": [
     5,
     15,
     26,
     87,
     103,
     129
    ]
   },
   "outputs": [],
   "source": [
    "# libraries\n",
    "\n",
    "'''\n",
    "comman functions\n",
    "'''\n",
    "def plotdf(df,Selects):\n",
    "    py.offline.iplot([{\n",
    "            'x': df.Time,\n",
    "            'y': df[col],\n",
    "            'name': col\n",
    "        }  for col in Selects], filename='basic-line')\n",
    "\n",
    "'''\n",
    "basic classes\n",
    "'''\n",
    "class soc_ocv_curve:\n",
    "    def __init__(self,soc,ocv):\n",
    "        self.ocv = ocv\n",
    "        self.soc = soc\n",
    "    def disp(self):\n",
    "        plt.xlabel('soc')\n",
    "        plt.ylabel('ocv')\n",
    "        plt.plot(self.soc,self.ocv)\n",
    "    def lookup(self,soc_in):\n",
    "        return np.interp(soc_in,self.soc,self.ocv)\n",
    "\n",
    "class component:\n",
    "    def __init__(self,name):\n",
    "        self.name = name\n",
    "    def rename(self,newname):\n",
    "        self.name = newname\n",
    "\n",
    "#dynamical sytem\n",
    "# class Lineardynamic():\n",
    "#     def __init__(self,x_size,y_size,u_size):\n",
    "#         self.x = np.zeros(x_size)\n",
    "#         self.dx = np.zeros(x_size)\n",
    "#         self.y = np.zeros(y_size)\n",
    "#         self.u = np.zeros(u_size)\n",
    "#         self.A = np.zeros(x_size,x_size)\n",
    "#         self.B = np.zeros(x_size,u_size)\n",
    "#         self.C = np.zeros(y_size,x_size)\n",
    "#\n",
    "#     def refresh():\n",
    "#       self.dx = np.matmul(self.A,self.x) + np.matmul(self.B,self.y)\n",
    "#     def run(ics,ts):\n",
    "\n",
    "'''\n",
    "component classes\n",
    "'''\n",
    "\n",
    "import re\n",
    "from asammdf import MDF, Signal\n",
    "\n",
    "class BatteryData(component):\n",
    "\n",
    "    def __init__(self,name):\n",
    "        component.__init__(self,name)\n",
    "\n",
    "    def read(self,filename):\n",
    "        if \"csv\" in filename:\n",
    "            print(\"imported \" + filename + ' for ' + self.name)\n",
    "            self.df = pd.read_csv(filename)\n",
    "        else:\n",
    "            print(filename + \" is illegal\")\n",
    "\n",
    "    def clean(self):\n",
    "        if hasattr(self,'df'):\n",
    "            self.df.Time_ms /=1000\n",
    "            self.df.rename(columns = {\"Time_ms\":\"Time\"},inplace=True)\n",
    "            self.Current = data1.df.Current.values\n",
    "            self.Time = data1.df.Time.values\n",
    "            print(\"cleaned \" + self.name)\n",
    "    #       df.rename(columns = lambda x: re.sub('^.*Voltage.*$','Voltage',x))\n",
    "    #       df.rename(columns = lambda x: re.sub('^.*Current.*$','Current',x))\n",
    "\n",
    "    def plot(self):\n",
    "        plotdf(self.df,[\"Voltage\",\"Current\"])\n",
    "class BatterySol(component):\n",
    "    def __init__(self,vol,xs,ts,v_u,modelName,dataName,name):\n",
    "        component.__init__(self,name)\n",
    "        self.Current = v_u\n",
    "        self.States = xs\n",
    "        self.Voltage = vol\n",
    "        self.Time    = ts\n",
    "        self.modelName = modelName\n",
    "        self.dataName = dataName\n",
    "        self.score = 0\n",
    "        \n",
    "    def cmpData(BatteryData):\n",
    "        print(\"compare the solution for \\n\"\n",
    "              + \"model: \" + self.modelName + \" and data \" + self.dataName\n",
    "              + \"with data \" + BatteryData.Name)\n",
    "        \n",
    "class BatteryModel(component):\n",
    "    def __init__(self,RCs,ocv_curve,name):\n",
    "        component.__init__(self,name)\n",
    "        self.RCs = RCs\n",
    "        self.ocv_curve = ocv_curve\n",
    "\n",
    "    def disp(self):\n",
    "        VAR_NAMES = [\"R0\", \"R1\", \"C1\", \"R2\", \"C2\", \"C\"]\n",
    "        for i in range(0,6):\n",
    "            print(VAR_NAMES[i] + \" = \" + str(self.RCs[i]))\n",
    "        self.ocv_curve.disp()\n",
    "\n",
    "    def update(self,RCs):\n",
    "        self.RCs = RCs\n",
    "\n",
    "    def run(self,t,x,i0):\n",
    "        dxdt0 = 1/self.RCs[2]*(i0 - 1/self.RCs[1]*x[0])\n",
    "        dxdt1 = 1/self.RCs[4]*(i0 - 1/self.RCs[3]*x[1])\n",
    "        dxdt2 = -1/self.RCs[-1]*i0\n",
    "        dxdt = np.array([dxdt0,dxdt1,dxdt2])\n",
    "        return dxdt\n",
    "\n",
    "   # def dydt():\n",
    "'''\n",
    "top classes\n",
    "'''\n",
    "class BatteryLearn:\n",
    "\n",
    "    def __init__(self,name):\n",
    "        self.name = name\n",
    "        self.models = []\n",
    "        self.datas  = []\n",
    "        self.sols   = []\n",
    "\n",
    "    def pushdata(self,BatteryData):\n",
    "        print(\"pushed \" + BatteryData.name+\" to \" + self.name)\n",
    "        self.datas.append(BatteryData)\n",
    "\n",
    "    def pushmodel(self,Batterymodel):\n",
    "        print(\"pushed \" + Batterymodel.name + \" to \" + self.name)\n",
    "        self.models.append(Batterymodel)\n",
    "\n",
    "    def clearAll(self):\n",
    "        self.models = []\n",
    "        self.datas  = []\n",
    "\n",
    "    def cleanData(self):\n",
    "        for data in self.datas:\n",
    "            self.data.clean()\n",
    "\n",
    "    def runModel(self,model_i,data_i,x0,tspan = None):\n",
    "\n",
    "        if not tspan:\n",
    "            ts = self.datas[data_i].df.Time.values\n",
    "        else:\n",
    "            ts = self.datas[data_i].df.Time.values[tspan[0]:tspan[1]]\n",
    "        \n",
    "        v_u = self.datas[data_i].df.Current.values\n",
    "        [xs,ts] = RK4(self.models[model_i].run,x0,ts,v_u)\n",
    "        Voltage = self.models[model_i].ocv_curve.lookup(xs[:,2]) + xs[:,0] + xs[:,1]\n",
    "        \n",
    "        return Voltage,xs,ts,v_u,self.models[model_i].name,self.datas[data_i].name\n",
    "    \n",
    "        \n",
    "#        sol = solve_ivp(lambda t, y: self.models[model_i].run(t, y,self.datas[data_i].i0),\\\n",
    "#                        [ts[0],ts[-1]], \\\n",
    "#                        y0, \\\n",
    "#                        method='RK45',\\\n",
    "#                        t_eval= ts,\\\n",
    "#                        first_step = 1,\\\n",
    "#                        max_step = 1 )\n",
    "        \n",
    "        #self.sols.append(sol)\n",
    "        print(\"run finished\")\n"
   ]
  },
  {
   "cell_type": "markdown",
   "metadata": {},
   "source": [
    "\\begin{align}\n",
    "\\dot{v}_1& = \\frac{1}{C_1}(i_0 -\\frac{v_1}{r_1}) \\\\\n",
    "\\dot{v}_2& = \\frac{1}{C_2}(i_0 -\\frac{v_2}{r_2}) \\\\\n",
    "\\dot{z}  &= - \\frac{1}{Q}{i_0}\n",
    "\\end{align}"
   ]
  },
  {
   "cell_type": "code",
   "execution_count": null,
   "metadata": {},
   "outputs": [],
   "source": [
    "# set up testing for battery data\n",
    "import sys\n",
    "import os\n",
    "import numpy as np\n",
    "\n",
    "#module_path = (os.getcwd()+\"\\lib\")\n",
    "#if module_path not in sys.path:\n",
    "#    sys.path.append(module_path)\n",
    "\n",
    "#from BatteryLearn import soc_ocv_curve, BatteryModel,BatteryData,BatteryLearn\n",
    "\n",
    "data1 = BatteryData(\"trial\")\n",
    "#filepath = []\n",
    "#for i in range(1,5):\n",
    "#filepath += [os.getcwd()+\"\\\\TestResults_SOCOCV\\\\A0\" + str(i) + \".csv\"]\n",
    "filepath = os.getcwd()+\"\\\\TestResults_SOCOCV\\\\A01.csv\"\n",
    "data1.read(filepath)\n",
    "data1.clean()"
   ]
  },
  {
   "cell_type": "code",
   "execution_count": null,
   "metadata": {},
   "outputs": [],
   "source": [
    "data2.mdf"
   ]
  },
  {
   "cell_type": "code",
   "execution_count": null,
   "metadata": {
    "code_folding": [
     0
    ]
   },
   "outputs": [],
   "source": [
    "# model parameters\n",
    "#VAR_NAMES = [\"R0\", \"R1\", \"C1\", \"R2\", \"C2\", \"C\"]\n",
    "Rcs = [0.1,1,100,2,300,100]\n",
    "ocv = [3, 3.1, 3.2, 3.3, 3.4, 3.5]\n",
    "soc = [0, 20,  40,  60,  80,  100]\n",
    "curve1 = soc_ocv_curve(soc,ocv)\n",
    "model1 = BatteryModel(Rcs,curve1,\"model1\")\n",
    "#model1.disp()"
   ]
  },
  {
   "cell_type": "code",
   "execution_count": null,
   "metadata": {},
   "outputs": [],
   "source": [
    "learn1 = BatteryLearn(\"learn1\")\n",
    "learn1.name\n",
    "learn1.pushdata(data1)\n",
    "learn1.pushmodel(model1)"
   ]
  },
  {
   "cell_type": "code",
   "execution_count": null,
   "metadata": {},
   "outputs": [],
   "source": [
    "#def runModel(self,model_i,data_i,x0,tspan = None,v_u = None):\n",
    "a = learn1.runModel(0, 0,[0,0,0])"
   ]
  },
  {
   "cell_type": "code",
   "execution_count": null,
   "metadata": {},
   "outputs": [],
   "source": [
    "sol1 = BatterySol(*a) "
   ]
  },
  {
   "cell_type": "code",
   "execution_count": null,
   "metadata": {},
   "outputs": [],
   "source": [
    "plt.plot(ts, vol - data1.df.Voltage.values, 'k-', label='Input')\n",
    "#plt.plot(sol.t, sol.y[0], 'k--', label='Output')"
   ]
  },
  {
   "cell_type": "code",
   "execution_count": null,
   "metadata": {},
   "outputs": [],
   "source": [
    "learn1.datas[0].Time"
   ]
  },
  {
   "cell_type": "code",
   "execution_count": null,
   "metadata": {
    "code_folding": [
     0
    ]
   },
   "outputs": [],
   "source": [
    "# %% Define independent function and derivative function\n",
    "\n",
    "class b:\n",
    "    def __init__(self):\n",
    "        pass\n",
    "    def f(self,t, y,x):\n",
    "        dydt = x(t) - y / 4\n",
    "        return dydt\n",
    "\n",
    "class a:\n",
    "    def __init__(self):\n",
    "        pass\n",
    "    def callback(self,t):\n",
    "        print(t)\n",
    "        return np.cos(3 * t)\n",
    "\n",
    "# %% Define time spans, initial values, and constants\n",
    "tspan = np.linspace(0, 15, 1000)\n",
    "yinit = [-1]\n",
    "a1 = a()\n",
    "b1 = b()\n",
    "# %% Solve differential equation\n",
    "sol = solve_ivp(lambda t, y: b1.f(t, y,a1.callback),\n",
    "                [tspan[0], tspan[-1]], yinit, t_eval=tspan)\n",
    "\n",
    "# %% Plot independent and dependent variable\n",
    "# Note that sol.y[0] is needed to extract a 1-D array\n",
    "plt.figure(1)\n",
    "plt.clf()\n",
    "plt.plot(sol.t, callback(sol.t), 'k-', label='Input')\n",
    "plt.plot(sol.t, sol.y[0], 'k--', label='Output')\n",
    "plt.legend(loc='best')"
   ]
  },
  {
   "cell_type": "code",
   "execution_count": null,
   "metadata": {
    "scrolled": true
   },
   "outputs": [],
   "source": [
    "a  =[1,2,3]\n",
    "a[0]\n",
    "a[a[0]:a[1]]"
   ]
  }
 ],
 "metadata": {
  "kernelspec": {
   "display_name": "Python 3",
   "language": "python",
   "name": "python3"
  },
  "language_info": {
   "codemirror_mode": {
    "name": "ipython",
    "version": 3
   },
   "file_extension": ".py",
   "mimetype": "text/x-python",
   "name": "python",
   "nbconvert_exporter": "python",
   "pygments_lexer": "ipython3",
   "version": "3.6.5"
  },
  "varInspector": {
   "cols": {
    "lenName": 16,
    "lenType": 16,
    "lenVar": 40
   },
   "kernels_config": {
    "python": {
     "delete_cmd_postfix": "",
     "delete_cmd_prefix": "del ",
     "library": "var_list.py",
     "varRefreshCmd": "print(var_dic_list())"
    },
    "r": {
     "delete_cmd_postfix": ") ",
     "delete_cmd_prefix": "rm(",
     "library": "var_list.r",
     "varRefreshCmd": "cat(var_dic_list()) "
    }
   },
   "types_to_exclude": [
    "module",
    "function",
    "builtin_function_or_method",
    "instance",
    "_Feature"
   ],
   "window_display": false
  }
 },
 "nbformat": 4,
 "nbformat_minor": 2
}
